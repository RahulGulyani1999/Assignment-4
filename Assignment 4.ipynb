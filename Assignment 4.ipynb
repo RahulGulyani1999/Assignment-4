{
 "cells": [
  {
   "cell_type": "code",
   "execution_count": 11,
   "id": "bdbe2930-1eb1-4247-adcb-f7e9b8931481",
   "metadata": {},
   "outputs": [],
   "source": [
    "l=[('Sachin Tendulkar',34357),('Ricky Ponting',27483),('jack Kallis',25534),('Virat Kohli',24936)]"
   ]
  },
  {
   "cell_type": "code",
   "execution_count": 51,
   "id": "170f2bb3-a6b7-4524-89ee-7a79f5df73d8",
   "metadata": {},
   "outputs": [],
   "source": [
    "m=lambda x,y:l.sort(),l.sort(),l"
   ]
  },
  {
   "cell_type": "code",
   "execution_count": 52,
   "id": "e8cb73b3-5b46-4e43-91e7-aa41c6a447cc",
   "metadata": {},
   "outputs": [
    {
     "data": {
      "text/plain": [
       "(<function __main__.<lambda>(x, y)>,\n",
       " None,\n",
       " [('Ricky Ponting', 27483),\n",
       "  ('Sachin Tendulkar', 34357),\n",
       "  ('Virat Kohli', 24936),\n",
       "  ('jack Kallis', 25534)])"
      ]
     },
     "execution_count": 52,
     "metadata": {},
     "output_type": "execute_result"
    }
   ],
   "source": [
    "m"
   ]
  },
  {
   "cell_type": "code",
   "execution_count": null,
   "id": "601a43d9-0ac1-4e94-add6-9119995dea27",
   "metadata": {},
   "outputs": [],
   "source": [
    "# Question-2- Answer"
   ]
  },
  {
   "cell_type": "code",
   "execution_count": 35,
   "id": "e9b4cf0c-972a-40e8-959e-438b4e011b17",
   "metadata": {},
   "outputs": [],
   "source": [
    "l1=[1,2,3,4,5,6,7,8,9,10]"
   ]
  },
  {
   "cell_type": "code",
   "execution_count": 47,
   "id": "25e865dc-7984-41d2-8a6b-1c41ff3af7b0",
   "metadata": {},
   "outputs": [
    {
     "data": {
      "text/plain": [
       "[1, 4, 9, 16, 25, 36, 49, 64, 81, 100]"
      ]
     },
     "execution_count": 47,
     "metadata": {},
     "output_type": "execute_result"
    }
   ],
   "source": [
    "list(map(lambda x: x**2,l1))"
   ]
  },
  {
   "cell_type": "code",
   "execution_count": null,
   "id": "bae91003-49f6-460b-b38a-161ee8ea311c",
   "metadata": {},
   "outputs": [],
   "source": [
    "# Question-3- Answer"
   ]
  },
  {
   "cell_type": "code",
   "execution_count": 48,
   "id": "d8b82e18-1494-4484-b4d3-b812a253aa69",
   "metadata": {},
   "outputs": [],
   "source": [
    "l3=[1,2,3,4,5,6,7,8,9,10]"
   ]
  },
  {
   "cell_type": "code",
   "execution_count": 78,
   "id": "0333282b-a845-4956-ab04-776dfc982ee9",
   "metadata": {},
   "outputs": [
    {
     "data": {
      "text/plain": [
       "('1', '2', '3', '4', '5', '6', '7', '8', '9', '10')"
      ]
     },
     "execution_count": 78,
     "metadata": {},
     "output_type": "execute_result"
    }
   ],
   "source": [
    "tuple(map(lambda  x:str(x),l3))"
   ]
  },
  {
   "cell_type": "code",
   "execution_count": null,
   "id": "e66572a3-631c-4383-ade1-727866a55998",
   "metadata": {},
   "outputs": [],
   "source": [
    "# Question-4- Answer"
   ]
  },
  {
   "cell_type": "code",
   "execution_count": 88,
   "id": "5b36eae4-c4c1-4960-a012-d8927af15658",
   "metadata": {},
   "outputs": [],
   "source": [
    "l4=list(range (1,26))"
   ]
  },
  {
   "cell_type": "code",
   "execution_count": 89,
   "id": "3d5d5b78-c213-42a1-8c78-58ca915f7295",
   "metadata": {},
   "outputs": [],
   "source": [
    "from functools import reduce"
   ]
  },
  {
   "cell_type": "code",
   "execution_count": 90,
   "id": "ec187eed-2c40-436d-a7ab-6ad99697edb8",
   "metadata": {},
   "outputs": [
    {
     "data": {
      "text/plain": [
       "15511210043330985984000000"
      ]
     },
     "execution_count": 90,
     "metadata": {},
     "output_type": "execute_result"
    }
   ],
   "source": [
    "reduce(lambda x,y:x*y,l4)"
   ]
  },
  {
   "cell_type": "code",
   "execution_count": null,
   "id": "54bb7580-60cf-42bd-b770-a706a6c9d182",
   "metadata": {},
   "outputs": [],
   "source": [
    "# Question-5- Answer"
   ]
  },
  {
   "cell_type": "code",
   "execution_count": 91,
   "id": "32caa06b-52c9-4f57-a66a-6d9988e53309",
   "metadata": {},
   "outputs": [],
   "source": [
    "l5=[2,3,6,9,27,60,120,55,46]"
   ]
  },
  {
   "cell_type": "code",
   "execution_count": 93,
   "id": "29e87146-3a7a-4fa4-9ccb-07f0d1168941",
   "metadata": {},
   "outputs": [
    {
     "data": {
      "text/plain": [
       "[2, 6, 60, 120, 46]"
      ]
     },
     "execution_count": 93,
     "metadata": {},
     "output_type": "execute_result"
    }
   ],
   "source": [
    "list(filter(lambda x:x%2==0,l5))"
   ]
  },
  {
   "cell_type": "code",
   "execution_count": 2,
   "id": "382b4f96-3650-4fdc-aea9-235cdcee14ef",
   "metadata": {},
   "outputs": [],
   "source": [
    "l5=[2,3,6,9,27,60,120,55,46]"
   ]
  },
  {
   "cell_type": "code",
   "execution_count": 3,
   "id": "00ab3a9f-311a-43b3-a868-3af0bcf1293d",
   "metadata": {},
   "outputs": [
    {
     "data": {
      "text/plain": [
       "[3, 6, 9, 27, 60, 120]"
      ]
     },
     "execution_count": 3,
     "metadata": {},
     "output_type": "execute_result"
    }
   ],
   "source": [
    "list(filter(lambda x:x%3==0,l5))"
   ]
  },
  {
   "cell_type": "code",
   "execution_count": null,
   "id": "e46ca664-865f-43c6-a18f-0b20a2d49a03",
   "metadata": {},
   "outputs": [],
   "source": [
    "# Question - 6- Answer"
   ]
  },
  {
   "cell_type": "code",
   "execution_count": 4,
   "id": "26663a37-8a4b-4f81-8558-3c77e287fc01",
   "metadata": {},
   "outputs": [],
   "source": [
    "l6=['python','php','aba','radar','level']"
   ]
  },
  {
   "cell_type": "code",
   "execution_count": 9,
   "id": "1713165d-9d74-44f5-a956-83b8bc21f62a",
   "metadata": {},
   "outputs": [
    {
     "data": {
      "text/plain": [
       "['php', 'aba', 'radar', 'level']"
      ]
     },
     "execution_count": 9,
     "metadata": {},
     "output_type": "execute_result"
    }
   ],
   "source": [
    "list(filter(lambda x:x==x[::-1],l6))"
   ]
  },
  {
   "cell_type": "code",
   "execution_count": null,
   "id": "60b7b71c-cdfe-4675-a275-4b92f866e7f5",
   "metadata": {},
   "outputs": [],
   "source": []
  }
 ],
 "metadata": {
  "kernelspec": {
   "display_name": "Python 3 (ipykernel)",
   "language": "python",
   "name": "python3"
  },
  "language_info": {
   "codemirror_mode": {
    "name": "ipython",
    "version": 3
   },
   "file_extension": ".py",
   "mimetype": "text/x-python",
   "name": "python",
   "nbconvert_exporter": "python",
   "pygments_lexer": "ipython3",
   "version": "3.10.8"
  }
 },
 "nbformat": 4,
 "nbformat_minor": 5
}
